{
 "cells": [
  {
   "cell_type": "markdown",
   "id": "ca8fa7a4",
   "metadata": {},
   "source": [
    "Пример генерации персонажей с разными промптами"
   ]
  },
  {
   "cell_type": "code",
   "execution_count": null,
   "id": "5549aa87",
   "metadata": {},
   "outputs": [],
   "source": [
    "from model import TagRegistry, PromptFactory, Tag, Gender, Purpose, PromptPart\n",
    "from generation import generate_image, save_image"
   ]
  },
  {
   "cell_type": "code",
   "execution_count": null,
   "id": "c4d83248",
   "metadata": {},
   "outputs": [],
   "source": [
    "# Загрузка тегов из файла\n",
    "TagRegistry.load(\"tags.json\")"
   ]
  },
  {
   "cell_type": "code",
   "execution_count": null,
   "id": "9115b1bb",
   "metadata": {},
   "outputs": [],
   "source": [
    "# Разные промпты по названиям тегов\n",
    "first = [\"name\", \"of\", \"tags\"]\n",
    "second = [\"name\", \"of\", \"tags\"]\n",
    "third = [\"name\", \"of\", \"tags\"]"
   ]
  },
  {
   "cell_type": "code",
   "execution_count": null,
   "id": "83452d09",
   "metadata": {},
   "outputs": [],
   "source": [
    "all_prompts = [first, second, third]\n",
    "for _ in range(3):\n",
    "    for string_tags in all_prompts:\n",
    "        for char in TagRegistry.all_characters():\n",
    "            tags_prompt = [TagRegistry.find(tag) for tag in string_tags]\n",
    "            tags_prompt = [char] + tags_prompt\n",
    "            prompt, filename = PromptFactory.generate(tags_prompt)\n",
    "            print(prompt)\n",
    "            image = await generate_image(prompt, \"\")\n",
    "            if image:\n",
    "                save_image(image[0], filename, \"path\\\\to\\\\save\\\\\")"
   ]
  },
  {
   "cell_type": "code",
   "execution_count": null,
   "id": "ff8132de",
   "metadata": {},
   "outputs": [],
   "source": [
    "TagRegistry.save(\"tags.json\")"
   ]
  }
 ],
 "metadata": {
  "kernelspec": {
   "display_name": "base",
   "language": "python",
   "name": "python3"
  },
  "language_info": {
   "codemirror_mode": {
    "name": "ipython",
    "version": 3
   },
   "file_extension": ".py",
   "mimetype": "text/x-python",
   "name": "python",
   "nbconvert_exporter": "python",
   "pygments_lexer": "ipython3",
   "version": "3.12.10"
  }
 },
 "nbformat": 4,
 "nbformat_minor": 5
}
